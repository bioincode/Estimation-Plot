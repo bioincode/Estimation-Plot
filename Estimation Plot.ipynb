{
 "cells": [
  {
   "cell_type": "markdown",
   "id": "0ea63322",
   "metadata": {},
   "source": [
    "Introducing The Estimation Plot: This Is this the best way to display and visual data. \n",
    "    Two-Group Estimation Plot\n",
    "    Benefit : All Observed values Are Shown\n",
    "    Effect Size is shown\n",
    "    Precision of Effect size is Shown\n",
    "    Confidence and Likelihood of effect size are shown\n",
    "    No flase Dichotomy arusing from Signficance Testing"
   ]
  },
  {
   "cell_type": "code",
   "execution_count": 1,
   "id": "dc1f8a1a",
   "metadata": {},
   "outputs": [
    {
     "name": "stdout",
     "output_type": "stream",
     "text": [
      "We're using DABEST v2023.02.14\n"
     ]
    }
   ],
   "source": [
    "import numpy as np\n",
    "import pandas as pd\n",
    "import dabest\n",
    "\n",
    "print(\"We're using DABEST v{}\".format(dabest.__version__))"
   ]
  },
  {
   "cell_type": "code",
   "execution_count": 2,
   "id": "3b7ec502",
   "metadata": {},
   "outputs": [
    {
     "data": {
      "text/html": [
       "<div>\n",
       "<style scoped>\n",
       "    .dataframe tbody tr th:only-of-type {\n",
       "        vertical-align: middle;\n",
       "    }\n",
       "\n",
       "    .dataframe tbody tr th {\n",
       "        vertical-align: top;\n",
       "    }\n",
       "\n",
       "    .dataframe thead th {\n",
       "        text-align: right;\n",
       "    }\n",
       "</style>\n",
       "<table border=\"1\" class=\"dataframe\">\n",
       "  <thead>\n",
       "    <tr style=\"text-align: right;\">\n",
       "      <th></th>\n",
       "      <th>HL60 1uM fMLP</th>\n",
       "      <th>Cell Migration</th>\n",
       "      <th>Normalized</th>\n",
       "      <th>Average</th>\n",
       "      <th>Unnamed: 4</th>\n",
       "      <th>HL60 No fMLP</th>\n",
       "      <th>Cell Migration.1</th>\n",
       "      <th>Normalized.1</th>\n",
       "      <th>Average.1</th>\n",
       "      <th>Unnamed: 9</th>\n",
       "      <th>HL60 eGFP fMLP</th>\n",
       "      <th>HL60 E62K fMLP</th>\n",
       "      <th>Unnamed: 12</th>\n",
       "      <th>HL60 eGFP Control</th>\n",
       "      <th>HL60 E62K Control</th>\n",
       "    </tr>\n",
       "  </thead>\n",
       "  <tbody>\n",
       "    <tr>\n",
       "      <th>0</th>\n",
       "      <td>HL60 eGFP</td>\n",
       "      <td>34</td>\n",
       "      <td>0.889587</td>\n",
       "      <td>#REF!</td>\n",
       "      <td>NaN</td>\n",
       "      <td>HL60 eGFP</td>\n",
       "      <td>18</td>\n",
       "      <td>1.307190</td>\n",
       "      <td>#REF!</td>\n",
       "      <td>NaN</td>\n",
       "      <td>0.889587</td>\n",
       "      <td>0.549451</td>\n",
       "      <td>NaN</td>\n",
       "      <td>1.307190</td>\n",
       "      <td>1.379811</td>\n",
       "    </tr>\n",
       "    <tr>\n",
       "      <th>1</th>\n",
       "      <td>HL60 eGFP</td>\n",
       "      <td>31</td>\n",
       "      <td>0.811094</td>\n",
       "      <td>NaN</td>\n",
       "      <td>NaN</td>\n",
       "      <td>HL60 eGFP</td>\n",
       "      <td>25</td>\n",
       "      <td>1.815541</td>\n",
       "      <td>NaN</td>\n",
       "      <td>NaN</td>\n",
       "      <td>0.811094</td>\n",
       "      <td>0.654108</td>\n",
       "      <td>NaN</td>\n",
       "      <td>1.815541</td>\n",
       "      <td>0.580973</td>\n",
       "    </tr>\n",
       "    <tr>\n",
       "      <th>2</th>\n",
       "      <td>HL60 eGFP</td>\n",
       "      <td>29</td>\n",
       "      <td>0.758765</td>\n",
       "      <td>NaN</td>\n",
       "      <td>NaN</td>\n",
       "      <td>HL60 eGFP</td>\n",
       "      <td>14</td>\n",
       "      <td>1.016703</td>\n",
       "      <td>NaN</td>\n",
       "      <td>NaN</td>\n",
       "      <td>0.758765</td>\n",
       "      <td>0.523286</td>\n",
       "      <td>NaN</td>\n",
       "      <td>1.016703</td>\n",
       "      <td>1.016703</td>\n",
       "    </tr>\n",
       "    <tr>\n",
       "      <th>3</th>\n",
       "      <td>HL60 eGFP</td>\n",
       "      <td>49</td>\n",
       "      <td>1.282051</td>\n",
       "      <td>NaN</td>\n",
       "      <td>NaN</td>\n",
       "      <td>HL60 eGFP</td>\n",
       "      <td>11</td>\n",
       "      <td>0.798838</td>\n",
       "      <td>NaN</td>\n",
       "      <td>NaN</td>\n",
       "      <td>1.282051</td>\n",
       "      <td>0.497122</td>\n",
       "      <td>NaN</td>\n",
       "      <td>0.798838</td>\n",
       "      <td>0.798838</td>\n",
       "    </tr>\n",
       "    <tr>\n",
       "      <th>4</th>\n",
       "      <td>HL60 eGFP</td>\n",
       "      <td>44</td>\n",
       "      <td>1.151230</td>\n",
       "      <td>NaN</td>\n",
       "      <td>NaN</td>\n",
       "      <td>HL60 eGFP</td>\n",
       "      <td>7</td>\n",
       "      <td>0.508351</td>\n",
       "      <td>NaN</td>\n",
       "      <td>NaN</td>\n",
       "      <td>1.151230</td>\n",
       "      <td>0.340136</td>\n",
       "      <td>NaN</td>\n",
       "      <td>0.508351</td>\n",
       "      <td>0.653595</td>\n",
       "    </tr>\n",
       "  </tbody>\n",
       "</table>\n",
       "</div>"
      ],
      "text/plain": [
       "  HL60 1uM fMLP  Cell Migration  Normalized Average  Unnamed: 4 HL60 No fMLP  \\\n",
       "0     HL60 eGFP              34    0.889587   #REF!         NaN    HL60 eGFP   \n",
       "1     HL60 eGFP              31    0.811094     NaN         NaN    HL60 eGFP   \n",
       "2     HL60 eGFP              29    0.758765     NaN         NaN    HL60 eGFP   \n",
       "3     HL60 eGFP              49    1.282051     NaN         NaN    HL60 eGFP   \n",
       "4     HL60 eGFP              44    1.151230     NaN         NaN    HL60 eGFP   \n",
       "\n",
       "   Cell Migration.1  Normalized.1 Average.1  Unnamed: 9  HL60 eGFP fMLP  \\\n",
       "0                18      1.307190     #REF!         NaN        0.889587   \n",
       "1                25      1.815541       NaN         NaN        0.811094   \n",
       "2                14      1.016703       NaN         NaN        0.758765   \n",
       "3                11      0.798838       NaN         NaN        1.282051   \n",
       "4                 7      0.508351       NaN         NaN        1.151230   \n",
       "\n",
       "   HL60 E62K fMLP  Unnamed: 12  HL60 eGFP Control  HL60 E62K Control  \n",
       "0        0.549451          NaN           1.307190           1.379811  \n",
       "1        0.654108          NaN           1.815541           0.580973  \n",
       "2        0.523286          NaN           1.016703           1.016703  \n",
       "3        0.497122          NaN           0.798838           0.798838  \n",
       "4        0.340136          NaN           0.508351           0.653595  "
      ]
     },
     "execution_count": 2,
     "metadata": {},
     "output_type": "execute_result"
    }
   ],
   "source": [
    "# df=pd.read_csv(r\"C:\\Users\\capta\\Downloads\\Transwell - Transwell(1).csv\")\n",
    "# df=pd.read_csv(r\"C:\\Users\\capta\\Downloads\\Morgan's DCL-1 and Axl Data - DCL-1 eGFP vs EK.csv\")\n",
    "# df2=pd.read_csv(r\"C:\\Users\\capta\\Downloads\\Morgan's DCL-1 and Axl Data - Axl eGFP vs EK.csv\"\n",
    "# \"C:\\Users\\capta\\Downloads\\Transwell - Transwell(1).csv\"\n",
    "# df=pd.read_csv(r\"C:\\Users\\capta\\Downloads\\Transwell - Sheet5(1).csv\")\n",
    "# df=pd.read_csv(r\"C:\\Users\\capta\\Downloads\\Morgan's DCL-1 and Axl Data - Sheet8.csv\")\n",
    "df=pd.read_csv(r\"C:\\Users\\capta\\Downloads\\Transwell - Sheet7(4).csv\")\n",
    "df.head()\n",
    "# df2.head()"
   ]
  },
  {
   "cell_type": "code",
   "execution_count": 11,
   "id": "efae738e",
   "metadata": {},
   "outputs": [],
   "source": [
    "# df2=pd.read_csv(r\"C:\\Users\\capta\\Downloads\\Morgan's DCL-1 and Axl Data - Axl eGFP vs EK.csv\")\n",
    "# df2.head()"
   ]
  },
  {
   "cell_type": "code",
   "execution_count": 28,
   "id": "a38b70d7",
   "metadata": {},
   "outputs": [],
   "source": [
    "# two_groups_unpaired_ci90= (df,(\"HL60 eGFP-Axl\", \"HL60 E62K-Axl\"))"
   ]
  },
  {
   "cell_type": "code",
   "execution_count": 3,
   "id": "b2164430",
   "metadata": {},
   "outputs": [
    {
     "data": {
      "text/plain": [
       "DABEST v2023.02.14\n",
       "==================\n",
       "                  \n",
       "Good morning!\n",
       "The current time is Thu May 25 11:25:05 2023.\n",
       "\n",
       "Effect size(s) with 95% confidence intervals will be computed for:\n",
       "1. HL60 E62K Control minus HL60 eGFP Control\n",
       "\n",
       "9 resamples will be used to generate the effect size bootstraps."
      ]
     },
     "execution_count": 3,
     "metadata": {},
     "output_type": "execute_result"
    }
   ],
   "source": [
    "two_groups_unpaired = dabest.load(df, idx=(\"HL60 eGFP Control\", \"HL60 E62K Control\"), resamples=9)\n",
    "two_groups_unpaired"
   ]
  },
  {
   "cell_type": "code",
   "execution_count": 4,
   "id": "1e5bdfc0",
   "metadata": {},
   "outputs": [
    {
     "data": {
      "text/plain": [
       "DABEST v2023.02.14\n",
       "==================\n",
       "                  \n",
       "Good morning!\n",
       "The current time is Thu May 25 11:25:08 2023.\n",
       "\n",
       "Effect size(s) with 95% confidence intervals will be computed for:\n",
       "1. HL60 E62K Control minus HL60 eGFP Control\n",
       "\n",
       "5000 resamples will be used to generate the effect size bootstraps."
      ]
     },
     "execution_count": 4,
     "metadata": {},
     "output_type": "execute_result"
    }
   ],
   "source": [
    "two_groups_unpaired_ci90 = dabest.load(df, idx=(\"HL60 eGFP Control\", \"HL60 E62K Control\"), ci=95)\n",
    "two_groups_unpaired_ci90\n",
    "\n",
    "# Data Shape Is Worng Must Place Axl eGFP and Axl E62K in different bins\n",
    "# HL60 eGFP-Axl, HL60 E62K-Axl"
   ]
  },
  {
   "cell_type": "code",
   "execution_count": 5,
   "id": "17b29c37",
   "metadata": {},
   "outputs": [
    {
     "name": "stderr",
     "output_type": "stream",
     "text": [
      "C:\\Users\\capta\\anaconda3\\lib\\site-packages\\dabest\\_classes.py:2042: UserWarning: The lower limit of the interval was in the bottom 10 values. The result should be considered unstable.\n",
      "  warnings.warn(err_temp.substitute(lim_type=\"lower\",\n",
      "C:\\Users\\capta\\anaconda3\\lib\\site-packages\\dabest\\_classes.py:2047: UserWarning: The upper limit of the interval was in the top 10 values. The result should be considered unstable.\n",
      "  warnings.warn(err_temp.substitute(lim_type=\"upper\",\n"
     ]
    },
    {
     "data": {
      "text/plain": [
       "DABEST v2023.02.14\n",
       "==================\n",
       "                  \n",
       "Good morning!\n",
       "The current time is Thu May 25 11:25:12 2023.\n",
       "\n",
       "The unpaired mean difference between HL60 eGFP Control and HL60 E62K Control is -0.186 [95%CI -0.323, -0.0888].\n",
       "The p-value of the two-sided permutation t-test is 0.273, calculated for legacy purposes only. \n",
       "\n",
       "9 bootstrap samples were taken; the confidence interval is bias-corrected and accelerated.\n",
       "Any p-value reported is the probability of observing theeffect size (or greater),\n",
       "assuming the null hypothesis ofzero difference is true.\n",
       "For each p-value, 5000 reshuffles of the control and test labels were performed.\n",
       "\n",
       "To get the results of all valid statistical tests, use `.mean_diff.statistical_tests`"
      ]
     },
     "execution_count": 5,
     "metadata": {},
     "output_type": "execute_result"
    }
   ],
   "source": [
    "two_groups_unpaired.mean_diff"
   ]
  },
  {
   "cell_type": "code",
   "execution_count": 6,
   "id": "03e6399d",
   "metadata": {},
   "outputs": [
    {
     "data": {
      "text/html": [
       "<div>\n",
       "<style scoped>\n",
       "    .dataframe tbody tr th:only-of-type {\n",
       "        vertical-align: middle;\n",
       "    }\n",
       "\n",
       "    .dataframe tbody tr th {\n",
       "        vertical-align: top;\n",
       "    }\n",
       "\n",
       "    .dataframe thead th {\n",
       "        text-align: right;\n",
       "    }\n",
       "</style>\n",
       "<table border=\"1\" class=\"dataframe\">\n",
       "  <thead>\n",
       "    <tr style=\"text-align: right;\">\n",
       "      <th></th>\n",
       "      <th>control</th>\n",
       "      <th>test</th>\n",
       "      <th>control_N</th>\n",
       "      <th>test_N</th>\n",
       "      <th>effect_size</th>\n",
       "      <th>is_paired</th>\n",
       "      <th>difference</th>\n",
       "      <th>ci</th>\n",
       "      <th>bca_low</th>\n",
       "      <th>bca_high</th>\n",
       "      <th>bca_interval_idx</th>\n",
       "      <th>pct_low</th>\n",
       "      <th>pct_high</th>\n",
       "      <th>pct_interval_idx</th>\n",
       "      <th>bootstraps</th>\n",
       "      <th>resamples</th>\n",
       "      <th>random_seed</th>\n",
       "      <th>permutations</th>\n",
       "      <th>pvalue_permutation</th>\n",
       "      <th>permutation_count</th>\n",
       "      <th>permutations_var</th>\n",
       "      <th>pvalue_welch</th>\n",
       "      <th>statistic_welch</th>\n",
       "      <th>pvalue_students_t</th>\n",
       "      <th>statistic_students_t</th>\n",
       "      <th>pvalue_mann_whitney</th>\n",
       "      <th>statistic_mann_whitney</th>\n",
       "    </tr>\n",
       "  </thead>\n",
       "  <tbody>\n",
       "    <tr>\n",
       "      <th>0</th>\n",
       "      <td>HL60 eGFP Control</td>\n",
       "      <td>HL60 E62K Control</td>\n",
       "      <td>9</td>\n",
       "      <td>9</td>\n",
       "      <td>mean difference</td>\n",
       "      <td>None</td>\n",
       "      <td>-0.185589</td>\n",
       "      <td>95</td>\n",
       "      <td>-0.322763</td>\n",
       "      <td>-0.08876</td>\n",
       "      <td>(1, 8)</td>\n",
       "      <td>-0.338901</td>\n",
       "      <td>-0.08876</td>\n",
       "      <td>(0, 8)</td>\n",
       "      <td>[-0.2017267811222222, -0.18558863856666674, -0...</td>\n",
       "      <td>9</td>\n",
       "      <td>12345</td>\n",
       "      <td>[0.1694504960555555, -0.2662793511222221, -0.2...</td>\n",
       "      <td>0.2726</td>\n",
       "      <td>5000</td>\n",
       "      <td>[0.024172054392734708, 0.021535103003947342, 0...</td>\n",
       "      <td>0.249523</td>\n",
       "      <td>1.20264</td>\n",
       "      <td>0.246611</td>\n",
       "      <td>1.20264</td>\n",
       "      <td>0.263187</td>\n",
       "      <td>53.5</td>\n",
       "    </tr>\n",
       "  </tbody>\n",
       "</table>\n",
       "</div>"
      ],
      "text/plain": [
       "             control               test  control_N  test_N      effect_size  \\\n",
       "0  HL60 eGFP Control  HL60 E62K Control          9       9  mean difference   \n",
       "\n",
       "  is_paired  difference  ci   bca_low  bca_high bca_interval_idx   pct_low  \\\n",
       "0      None   -0.185589  95 -0.322763  -0.08876           (1, 8) -0.338901   \n",
       "\n",
       "   pct_high pct_interval_idx  \\\n",
       "0  -0.08876           (0, 8)   \n",
       "\n",
       "                                          bootstraps  resamples  random_seed  \\\n",
       "0  [-0.2017267811222222, -0.18558863856666674, -0...          9        12345   \n",
       "\n",
       "                                        permutations  pvalue_permutation  \\\n",
       "0  [0.1694504960555555, -0.2662793511222221, -0.2...              0.2726   \n",
       "\n",
       "   permutation_count                                   permutations_var  \\\n",
       "0               5000  [0.024172054392734708, 0.021535103003947342, 0...   \n",
       "\n",
       "   pvalue_welch  statistic_welch  pvalue_students_t  statistic_students_t  \\\n",
       "0      0.249523          1.20264           0.246611               1.20264   \n",
       "\n",
       "   pvalue_mann_whitney  statistic_mann_whitney  \n",
       "0             0.263187                    53.5  "
      ]
     },
     "execution_count": 6,
     "metadata": {},
     "output_type": "execute_result"
    }
   ],
   "source": [
    "pd.options.display.max_columns = 50\n",
    "\n",
    "two_groups_unpaired.mean_diff.results"
   ]
  },
  {
   "cell_type": "code",
   "execution_count": 7,
   "id": "9b0730ec",
   "metadata": {},
   "outputs": [
    {
     "data": {
      "text/html": [
       "<div>\n",
       "<style scoped>\n",
       "    .dataframe tbody tr th:only-of-type {\n",
       "        vertical-align: middle;\n",
       "    }\n",
       "\n",
       "    .dataframe tbody tr th {\n",
       "        vertical-align: top;\n",
       "    }\n",
       "\n",
       "    .dataframe thead th {\n",
       "        text-align: right;\n",
       "    }\n",
       "</style>\n",
       "<table border=\"1\" class=\"dataframe\">\n",
       "  <thead>\n",
       "    <tr style=\"text-align: right;\">\n",
       "      <th></th>\n",
       "      <th>control</th>\n",
       "      <th>test</th>\n",
       "      <th>control_N</th>\n",
       "      <th>test_N</th>\n",
       "      <th>effect_size</th>\n",
       "      <th>is_paired</th>\n",
       "      <th>difference</th>\n",
       "      <th>ci</th>\n",
       "      <th>bca_low</th>\n",
       "      <th>bca_high</th>\n",
       "      <th>pvalue_permutation</th>\n",
       "      <th>pvalue_welch</th>\n",
       "      <th>statistic_welch</th>\n",
       "      <th>pvalue_students_t</th>\n",
       "      <th>statistic_students_t</th>\n",
       "      <th>pvalue_mann_whitney</th>\n",
       "      <th>statistic_mann_whitney</th>\n",
       "    </tr>\n",
       "  </thead>\n",
       "  <tbody>\n",
       "    <tr>\n",
       "      <th>0</th>\n",
       "      <td>HL60 eGFP Control</td>\n",
       "      <td>HL60 E62K Control</td>\n",
       "      <td>9</td>\n",
       "      <td>9</td>\n",
       "      <td>mean difference</td>\n",
       "      <td>None</td>\n",
       "      <td>-0.185589</td>\n",
       "      <td>95</td>\n",
       "      <td>-0.322763</td>\n",
       "      <td>-0.08876</td>\n",
       "      <td>0.2726</td>\n",
       "      <td>0.249523</td>\n",
       "      <td>1.20264</td>\n",
       "      <td>0.246611</td>\n",
       "      <td>1.20264</td>\n",
       "      <td>0.263187</td>\n",
       "      <td>53.5</td>\n",
       "    </tr>\n",
       "  </tbody>\n",
       "</table>\n",
       "</div>"
      ],
      "text/plain": [
       "             control               test  control_N  test_N      effect_size  \\\n",
       "0  HL60 eGFP Control  HL60 E62K Control          9       9  mean difference   \n",
       "\n",
       "  is_paired  difference  ci   bca_low  bca_high  pvalue_permutation  \\\n",
       "0      None   -0.185589  95 -0.322763  -0.08876              0.2726   \n",
       "\n",
       "   pvalue_welch  statistic_welch  pvalue_students_t  statistic_students_t  \\\n",
       "0      0.249523          1.20264           0.246611               1.20264   \n",
       "\n",
       "   pvalue_mann_whitney  statistic_mann_whitney  \n",
       "0             0.263187                    53.5  "
      ]
     },
     "execution_count": 7,
     "metadata": {},
     "output_type": "execute_result"
    }
   ],
   "source": [
    "two_groups_unpaired.mean_diff.statistical_tests"
   ]
  },
  {
   "cell_type": "code",
   "execution_count": 8,
   "id": "d3674196",
   "metadata": {},
   "outputs": [
    {
     "name": "stderr",
     "output_type": "stream",
     "text": [
      "C:\\Users\\capta\\anaconda3\\lib\\site-packages\\dabest\\_classes.py:2042: UserWarning: The lower limit of the interval was in the bottom 10 values. The result should be considered unstable.\n",
      "  warnings.warn(err_temp.substitute(lim_type=\"lower\",\n",
      "C:\\Users\\capta\\anaconda3\\lib\\site-packages\\dabest\\_classes.py:2047: UserWarning: The upper limit of the interval was in the top 10 values. The result should be considered unstable.\n",
      "  warnings.warn(err_temp.substitute(lim_type=\"upper\",\n"
     ]
    },
    {
     "data": {
      "text/plain": [
       "DABEST v2023.02.14\n",
       "==================\n",
       "                  \n",
       "Good morning!\n",
       "The current time is Thu May 25 11:25:22 2023.\n",
       "\n",
       "The unpaired Hedges' g between HL60 eGFP Control and HL60 E62K Control is -0.54 [95%CI -0.668, -0.393].\n",
       "The p-value of the two-sided permutation t-test is 0.273, calculated for legacy purposes only. \n",
       "\n",
       "9 bootstrap samples were taken; the confidence interval is bias-corrected and accelerated.\n",
       "Any p-value reported is the probability of observing theeffect size (or greater),\n",
       "assuming the null hypothesis ofzero difference is true.\n",
       "For each p-value, 5000 reshuffles of the control and test labels were performed.\n",
       "\n",
       "To get the results of all valid statistical tests, use `.hedges_g.statistical_tests`"
      ]
     },
     "execution_count": 8,
     "metadata": {},
     "output_type": "execute_result"
    }
   ],
   "source": [
    "two_groups_unpaired.hedges_g"
   ]
  },
  {
   "cell_type": "code",
   "execution_count": 9,
   "id": "47e9127a",
   "metadata": {},
   "outputs": [
    {
     "data": {
      "text/html": [
       "<div>\n",
       "<style scoped>\n",
       "    .dataframe tbody tr th:only-of-type {\n",
       "        vertical-align: middle;\n",
       "    }\n",
       "\n",
       "    .dataframe tbody tr th {\n",
       "        vertical-align: top;\n",
       "    }\n",
       "\n",
       "    .dataframe thead th {\n",
       "        text-align: right;\n",
       "    }\n",
       "</style>\n",
       "<table border=\"1\" class=\"dataframe\">\n",
       "  <thead>\n",
       "    <tr style=\"text-align: right;\">\n",
       "      <th></th>\n",
       "      <th>control</th>\n",
       "      <th>test</th>\n",
       "      <th>control_N</th>\n",
       "      <th>test_N</th>\n",
       "      <th>effect_size</th>\n",
       "      <th>is_paired</th>\n",
       "      <th>difference</th>\n",
       "      <th>ci</th>\n",
       "      <th>bca_low</th>\n",
       "      <th>bca_high</th>\n",
       "      <th>bca_interval_idx</th>\n",
       "      <th>pct_low</th>\n",
       "      <th>pct_high</th>\n",
       "      <th>pct_interval_idx</th>\n",
       "      <th>bootstraps</th>\n",
       "      <th>resamples</th>\n",
       "      <th>random_seed</th>\n",
       "      <th>permutations</th>\n",
       "      <th>pvalue_permutation</th>\n",
       "      <th>permutation_count</th>\n",
       "      <th>permutations_var</th>\n",
       "      <th>pvalue_welch</th>\n",
       "      <th>statistic_welch</th>\n",
       "      <th>pvalue_students_t</th>\n",
       "      <th>statistic_students_t</th>\n",
       "      <th>pvalue_mann_whitney</th>\n",
       "      <th>statistic_mann_whitney</th>\n",
       "    </tr>\n",
       "  </thead>\n",
       "  <tbody>\n",
       "    <tr>\n",
       "      <th>0</th>\n",
       "      <td>HL60 eGFP Control</td>\n",
       "      <td>HL60 E62K Control</td>\n",
       "      <td>9</td>\n",
       "      <td>9</td>\n",
       "      <td>Hedges' g</td>\n",
       "      <td>None</td>\n",
       "      <td>-0.539861</td>\n",
       "      <td>95</td>\n",
       "      <td>-0.66775</td>\n",
       "      <td>-0.392859</td>\n",
       "      <td>(3, 8)</td>\n",
       "      <td>-1.214662</td>\n",
       "      <td>-0.392859</td>\n",
       "      <td>(0, 8)</td>\n",
       "      <td>[-0.6584357660130072, -1.2146618279928294, -0....</td>\n",
       "      <td>9</td>\n",
       "      <td>12345</td>\n",
       "      <td>[0.4892519175801264, -0.8145363809740879, -0.8...</td>\n",
       "      <td>0.273</td>\n",
       "      <td>5000</td>\n",
       "      <td>[0.024172054392734708, 0.021535103003947342, 0...</td>\n",
       "      <td>0.249523</td>\n",
       "      <td>1.20264</td>\n",
       "      <td>0.246611</td>\n",
       "      <td>1.20264</td>\n",
       "      <td>0.263187</td>\n",
       "      <td>53.5</td>\n",
       "    </tr>\n",
       "  </tbody>\n",
       "</table>\n",
       "</div>"
      ],
      "text/plain": [
       "             control               test  control_N  test_N effect_size  \\\n",
       "0  HL60 eGFP Control  HL60 E62K Control          9       9   Hedges' g   \n",
       "\n",
       "  is_paired  difference  ci  bca_low  bca_high bca_interval_idx   pct_low  \\\n",
       "0      None   -0.539861  95 -0.66775 -0.392859           (3, 8) -1.214662   \n",
       "\n",
       "   pct_high pct_interval_idx  \\\n",
       "0 -0.392859           (0, 8)   \n",
       "\n",
       "                                          bootstraps  resamples  random_seed  \\\n",
       "0  [-0.6584357660130072, -1.2146618279928294, -0....          9        12345   \n",
       "\n",
       "                                        permutations  pvalue_permutation  \\\n",
       "0  [0.4892519175801264, -0.8145363809740879, -0.8...               0.273   \n",
       "\n",
       "   permutation_count                                   permutations_var  \\\n",
       "0               5000  [0.024172054392734708, 0.021535103003947342, 0...   \n",
       "\n",
       "   pvalue_welch  statistic_welch  pvalue_students_t  statistic_students_t  \\\n",
       "0      0.249523          1.20264           0.246611               1.20264   \n",
       "\n",
       "   pvalue_mann_whitney  statistic_mann_whitney  \n",
       "0             0.263187                    53.5  "
      ]
     },
     "execution_count": 9,
     "metadata": {},
     "output_type": "execute_result"
    }
   ],
   "source": [
    "two_groups_unpaired.hedges_g.results"
   ]
  },
  {
   "cell_type": "code",
   "execution_count": 10,
   "id": "157c6e32",
   "metadata": {
    "scrolled": false
   },
   "outputs": [
    {
     "data": {
      "image/png": "[encoded data removed]",
      "text/plain": [
       "<Figure size 500x400 with 2 Axes>"
      ]
     },
     "metadata": {},
     "output_type": "display_data"
    }
   ],
   "source": [
    "two_groups_unpaired.mean_diff.plot();"
   ]
  },
  {
   "cell_type": "code",
   "execution_count": 11,
   "id": "75975a46",
   "metadata": {},
   "outputs": [],
   "source": [
    "# multi_2group = dabest.load(df, idx=((\"HL60 CD302 eGFP \", \"HL60 CD302 E62K\",),(\"HL60 eGFP-Axl \", \"HL60 E62K-Axl\")))"
   ]
  },
  {
   "cell_type": "code",
   "execution_count": null,
   "id": "8fbc1cee",
   "metadata": {},
   "outputs": [],
   "source": []
  },
  {
   "cell_type": "code",
   "execution_count": null,
   "id": "a2f35f0b",
   "metadata": {},
   "outputs": [],
   "source": []
  },
  {
   "cell_type": "code",
   "execution_count": null,
   "id": "bbe8e3ad",
   "metadata": {},
   "outputs": [],
   "source": []
  }
 ],
 "metadata": {
  "kernelspec": {
   "display_name": "Python 3 (ipykernel)",
   "language": "python",
   "name": "python3"
  },
  "language_info": {
   "codemirror_mode": {
    "name": "ipython",
    "version": 3
   },
   "file_extension": ".py",
   "mimetype": "text/x-python",
   "name": "python",
   "nbconvert_exporter": "python",
   "pygments_lexer": "ipython3",
   "version": "3.9.7"
  }
 },
 "nbformat": 4,
 "nbformat_minor": 5
}
